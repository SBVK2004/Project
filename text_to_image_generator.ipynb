import torch
from diffusers import StableDiffusionPipeline
from PIL import Image
import matplotlib.pyplot as plt
import re

torch.set_grad_enabled(False)

model_id = "runwayml/stable-diffusion-v1-5"
pipeline = None

try:
    if torch.cuda.is_available():
        pipeline = StableDiffusionPipeline.from_pretrained(model_id, torch_dtype=torch.float16)
        pipeline = pipeline.to("cuda")
        print("Using GPU for image generation.")
    else:
        pipeline = StableDiffusionPipeline.from_pretrained(model_id)
        pipeline = pipeline.to("cpu")
        print("Using CPU for image generation. This might be slow.")
except Exception as e:
    print(f"Error loading pipeline: {e}")
    print("Please ensure you have the 'diffusers' library and PyTorch installed correctly.")
    exit()

prompt = input("Enter the text whatever you want to generate: ")

sanitized_prompt = re.sub(r'[^\w\s-]', '', prompt)
sanitized_prompt = sanitized_prompt.replace(' ', '_').lower()
max_filename_length = 50
if len(sanitized_prompt) > max_filename_length:
    sanitized_prompt = sanitized_prompt[:max_filename_length]

negative_prompt = "low quality, blurry, ugly, deformed, distorted, bad anatomy, bad eyes, disfigured, poor quality, cartoon, anime, 3d render"

print(f"\nGenerating image for prompt: '{prompt}'...")

try:
    image = pipeline(
        prompt,
        negative_prompt=negative_prompt,
        num_inference_steps=30,
        guidance_scale=7.5
    ).images[0]

    output_filename = f"{sanitized_prompt}.png"
    image.save(output_filename)
    print(f"Image saved as {output_filename}")

    plt.imshow(image)
    plt.axis('off')
    plt.title(f"Generated Image: '{prompt}'")
    plt.show()

except Exception as e:
    print(f"Error generating image: {e}")
finally:
    if torch.cuda.is_available():
        torch.cuda.empty_cache()
        print("Cleared CUDA cache.")